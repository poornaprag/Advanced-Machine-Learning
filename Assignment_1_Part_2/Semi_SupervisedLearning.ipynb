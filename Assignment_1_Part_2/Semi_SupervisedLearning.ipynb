{
  "nbformat": 4,
  "nbformat_minor": 0,
  "metadata": {
    "colab": {
      "name": "Semi-SupervisedLearning.ipynb",
      "provenance": [],
      "collapsed_sections": [],
      "toc_visible": true
    },
    "kernelspec": {
      "name": "python3",
      "display_name": "Python 3"
    },
    "widgets": {
      "application/vnd.jupyter.widget-state+json": {
        "a3990203469d4f0f8fff82c9b96fc691": {
          "model_module": "@jupyter-widgets/controls",
          "model_name": "HBoxModel",
          "state": {
            "_view_name": "HBoxView",
            "_dom_classes": [],
            "_model_name": "HBoxModel",
            "_view_module": "@jupyter-widgets/controls",
            "_model_module_version": "1.5.0",
            "_view_count": null,
            "_view_module_version": "1.5.0",
            "box_style": "",
            "layout": "IPY_MODEL_7a8cc92da3e64d9d8cf8040816bf6369",
            "_model_module": "@jupyter-widgets/controls",
            "children": [
              "IPY_MODEL_b47c58f79886488d9e1b85fc60e04c72",
              "IPY_MODEL_115bc068dcfa476788b75f6887abbe82"
            ]
          }
        },
        "7a8cc92da3e64d9d8cf8040816bf6369": {
          "model_module": "@jupyter-widgets/base",
          "model_name": "LayoutModel",
          "state": {
            "_view_name": "LayoutView",
            "grid_template_rows": null,
            "right": null,
            "justify_content": null,
            "_view_module": "@jupyter-widgets/base",
            "overflow": null,
            "_model_module_version": "1.2.0",
            "_view_count": null,
            "flex_flow": null,
            "width": null,
            "min_width": null,
            "border": null,
            "align_items": null,
            "bottom": null,
            "_model_module": "@jupyter-widgets/base",
            "top": null,
            "grid_column": null,
            "overflow_y": null,
            "overflow_x": null,
            "grid_auto_flow": null,
            "grid_area": null,
            "grid_template_columns": null,
            "flex": null,
            "_model_name": "LayoutModel",
            "justify_items": null,
            "grid_row": null,
            "max_height": null,
            "align_content": null,
            "visibility": null,
            "align_self": null,
            "height": null,
            "min_height": null,
            "padding": null,
            "grid_auto_rows": null,
            "grid_gap": null,
            "max_width": null,
            "order": null,
            "_view_module_version": "1.2.0",
            "grid_template_areas": null,
            "object_position": null,
            "object_fit": null,
            "grid_auto_columns": null,
            "margin": null,
            "display": null,
            "left": null
          }
        },
        "b47c58f79886488d9e1b85fc60e04c72": {
          "model_module": "@jupyter-widgets/controls",
          "model_name": "FloatProgressModel",
          "state": {
            "_view_name": "ProgressView",
            "style": "IPY_MODEL_62cb0d0194094f4c885d33f0513745e5",
            "_dom_classes": [],
            "description": "",
            "_model_name": "FloatProgressModel",
            "bar_style": "success",
            "max": 1,
            "_view_module": "@jupyter-widgets/controls",
            "_model_module_version": "1.5.0",
            "value": 1,
            "_view_count": null,
            "_view_module_version": "1.5.0",
            "orientation": "horizontal",
            "min": 0,
            "description_tooltip": null,
            "_model_module": "@jupyter-widgets/controls",
            "layout": "IPY_MODEL_b4bc68c36c484d9c8971594e5d7fc195"
          }
        },
        "115bc068dcfa476788b75f6887abbe82": {
          "model_module": "@jupyter-widgets/controls",
          "model_name": "HTMLModel",
          "state": {
            "_view_name": "HTMLView",
            "style": "IPY_MODEL_cbedf821e4654eca835c46e91ffed04c",
            "_dom_classes": [],
            "description": "",
            "_model_name": "HTMLModel",
            "placeholder": "​",
            "_view_module": "@jupyter-widgets/controls",
            "_model_module_version": "1.5.0",
            "value": " 9920512/? [00:02&lt;00:00, 3883411.10it/s]",
            "_view_count": null,
            "_view_module_version": "1.5.0",
            "description_tooltip": null,
            "_model_module": "@jupyter-widgets/controls",
            "layout": "IPY_MODEL_1c712144642a4d798f677ef70aaf0eee"
          }
        },
        "62cb0d0194094f4c885d33f0513745e5": {
          "model_module": "@jupyter-widgets/controls",
          "model_name": "ProgressStyleModel",
          "state": {
            "_view_name": "StyleView",
            "_model_name": "ProgressStyleModel",
            "description_width": "initial",
            "_view_module": "@jupyter-widgets/base",
            "_model_module_version": "1.5.0",
            "_view_count": null,
            "_view_module_version": "1.2.0",
            "bar_color": null,
            "_model_module": "@jupyter-widgets/controls"
          }
        },
        "b4bc68c36c484d9c8971594e5d7fc195": {
          "model_module": "@jupyter-widgets/base",
          "model_name": "LayoutModel",
          "state": {
            "_view_name": "LayoutView",
            "grid_template_rows": null,
            "right": null,
            "justify_content": null,
            "_view_module": "@jupyter-widgets/base",
            "overflow": null,
            "_model_module_version": "1.2.0",
            "_view_count": null,
            "flex_flow": null,
            "width": null,
            "min_width": null,
            "border": null,
            "align_items": null,
            "bottom": null,
            "_model_module": "@jupyter-widgets/base",
            "top": null,
            "grid_column": null,
            "overflow_y": null,
            "overflow_x": null,
            "grid_auto_flow": null,
            "grid_area": null,
            "grid_template_columns": null,
            "flex": null,
            "_model_name": "LayoutModel",
            "justify_items": null,
            "grid_row": null,
            "max_height": null,
            "align_content": null,
            "visibility": null,
            "align_self": null,
            "height": null,
            "min_height": null,
            "padding": null,
            "grid_auto_rows": null,
            "grid_gap": null,
            "max_width": null,
            "order": null,
            "_view_module_version": "1.2.0",
            "grid_template_areas": null,
            "object_position": null,
            "object_fit": null,
            "grid_auto_columns": null,
            "margin": null,
            "display": null,
            "left": null
          }
        },
        "cbedf821e4654eca835c46e91ffed04c": {
          "model_module": "@jupyter-widgets/controls",
          "model_name": "DescriptionStyleModel",
          "state": {
            "_view_name": "StyleView",
            "_model_name": "DescriptionStyleModel",
            "description_width": "",
            "_view_module": "@jupyter-widgets/base",
            "_model_module_version": "1.5.0",
            "_view_count": null,
            "_view_module_version": "1.2.0",
            "_model_module": "@jupyter-widgets/controls"
          }
        },
        "1c712144642a4d798f677ef70aaf0eee": {
          "model_module": "@jupyter-widgets/base",
          "model_name": "LayoutModel",
          "state": {
            "_view_name": "LayoutView",
            "grid_template_rows": null,
            "right": null,
            "justify_content": null,
            "_view_module": "@jupyter-widgets/base",
            "overflow": null,
            "_model_module_version": "1.2.0",
            "_view_count": null,
            "flex_flow": null,
            "width": null,
            "min_width": null,
            "border": null,
            "align_items": null,
            "bottom": null,
            "_model_module": "@jupyter-widgets/base",
            "top": null,
            "grid_column": null,
            "overflow_y": null,
            "overflow_x": null,
            "grid_auto_flow": null,
            "grid_area": null,
            "grid_template_columns": null,
            "flex": null,
            "_model_name": "LayoutModel",
            "justify_items": null,
            "grid_row": null,
            "max_height": null,
            "align_content": null,
            "visibility": null,
            "align_self": null,
            "height": null,
            "min_height": null,
            "padding": null,
            "grid_auto_rows": null,
            "grid_gap": null,
            "max_width": null,
            "order": null,
            "_view_module_version": "1.2.0",
            "grid_template_areas": null,
            "object_position": null,
            "object_fit": null,
            "grid_auto_columns": null,
            "margin": null,
            "display": null,
            "left": null
          }
        },
        "bd35fdf9c8d54a92a343ca69940416ab": {
          "model_module": "@jupyter-widgets/controls",
          "model_name": "HBoxModel",
          "state": {
            "_view_name": "HBoxView",
            "_dom_classes": [],
            "_model_name": "HBoxModel",
            "_view_module": "@jupyter-widgets/controls",
            "_model_module_version": "1.5.0",
            "_view_count": null,
            "_view_module_version": "1.5.0",
            "box_style": "",
            "layout": "IPY_MODEL_97ea4bc5358346f78e8bb09ec76a61f8",
            "_model_module": "@jupyter-widgets/controls",
            "children": [
              "IPY_MODEL_ca411edeeadb49a4b94206b0b639d67f",
              "IPY_MODEL_d18b4839a98e4ef49f82cc7001eb735b"
            ]
          }
        },
        "97ea4bc5358346f78e8bb09ec76a61f8": {
          "model_module": "@jupyter-widgets/base",
          "model_name": "LayoutModel",
          "state": {
            "_view_name": "LayoutView",
            "grid_template_rows": null,
            "right": null,
            "justify_content": null,
            "_view_module": "@jupyter-widgets/base",
            "overflow": null,
            "_model_module_version": "1.2.0",
            "_view_count": null,
            "flex_flow": null,
            "width": null,
            "min_width": null,
            "border": null,
            "align_items": null,
            "bottom": null,
            "_model_module": "@jupyter-widgets/base",
            "top": null,
            "grid_column": null,
            "overflow_y": null,
            "overflow_x": null,
            "grid_auto_flow": null,
            "grid_area": null,
            "grid_template_columns": null,
            "flex": null,
            "_model_name": "LayoutModel",
            "justify_items": null,
            "grid_row": null,
            "max_height": null,
            "align_content": null,
            "visibility": null,
            "align_self": null,
            "height": null,
            "min_height": null,
            "padding": null,
            "grid_auto_rows": null,
            "grid_gap": null,
            "max_width": null,
            "order": null,
            "_view_module_version": "1.2.0",
            "grid_template_areas": null,
            "object_position": null,
            "object_fit": null,
            "grid_auto_columns": null,
            "margin": null,
            "display": null,
            "left": null
          }
        },
        "ca411edeeadb49a4b94206b0b639d67f": {
          "model_module": "@jupyter-widgets/controls",
          "model_name": "FloatProgressModel",
          "state": {
            "_view_name": "ProgressView",
            "style": "IPY_MODEL_4d2f953e9f084812818b2cbb28b37bc1",
            "_dom_classes": [],
            "description": "",
            "_model_name": "FloatProgressModel",
            "bar_style": "success",
            "max": 1,
            "_view_module": "@jupyter-widgets/controls",
            "_model_module_version": "1.5.0",
            "value": 1,
            "_view_count": null,
            "_view_module_version": "1.5.0",
            "orientation": "horizontal",
            "min": 0,
            "description_tooltip": null,
            "_model_module": "@jupyter-widgets/controls",
            "layout": "IPY_MODEL_c4ae05b3b0194f76b932c97f044c7854"
          }
        },
        "d18b4839a98e4ef49f82cc7001eb735b": {
          "model_module": "@jupyter-widgets/controls",
          "model_name": "HTMLModel",
          "state": {
            "_view_name": "HTMLView",
            "style": "IPY_MODEL_ca0cad69b2a84ef985af5cce0bd74409",
            "_dom_classes": [],
            "description": "",
            "_model_name": "HTMLModel",
            "placeholder": "​",
            "_view_module": "@jupyter-widgets/controls",
            "_model_module_version": "1.5.0",
            "value": " 32768/? [00:01&lt;00:00, 18801.08it/s]",
            "_view_count": null,
            "_view_module_version": "1.5.0",
            "description_tooltip": null,
            "_model_module": "@jupyter-widgets/controls",
            "layout": "IPY_MODEL_6fec06c4fdae40619f7c82d50acc6d22"
          }
        },
        "4d2f953e9f084812818b2cbb28b37bc1": {
          "model_module": "@jupyter-widgets/controls",
          "model_name": "ProgressStyleModel",
          "state": {
            "_view_name": "StyleView",
            "_model_name": "ProgressStyleModel",
            "description_width": "initial",
            "_view_module": "@jupyter-widgets/base",
            "_model_module_version": "1.5.0",
            "_view_count": null,
            "_view_module_version": "1.2.0",
            "bar_color": null,
            "_model_module": "@jupyter-widgets/controls"
          }
        },
        "c4ae05b3b0194f76b932c97f044c7854": {
          "model_module": "@jupyter-widgets/base",
          "model_name": "LayoutModel",
          "state": {
            "_view_name": "LayoutView",
            "grid_template_rows": null,
            "right": null,
            "justify_content": null,
            "_view_module": "@jupyter-widgets/base",
            "overflow": null,
            "_model_module_version": "1.2.0",
            "_view_count": null,
            "flex_flow": null,
            "width": null,
            "min_width": null,
            "border": null,
            "align_items": null,
            "bottom": null,
            "_model_module": "@jupyter-widgets/base",
            "top": null,
            "grid_column": null,
            "overflow_y": null,
            "overflow_x": null,
            "grid_auto_flow": null,
            "grid_area": null,
            "grid_template_columns": null,
            "flex": null,
            "_model_name": "LayoutModel",
            "justify_items": null,
            "grid_row": null,
            "max_height": null,
            "align_content": null,
            "visibility": null,
            "align_self": null,
            "height": null,
            "min_height": null,
            "padding": null,
            "grid_auto_rows": null,
            "grid_gap": null,
            "max_width": null,
            "order": null,
            "_view_module_version": "1.2.0",
            "grid_template_areas": null,
            "object_position": null,
            "object_fit": null,
            "grid_auto_columns": null,
            "margin": null,
            "display": null,
            "left": null
          }
        },
        "ca0cad69b2a84ef985af5cce0bd74409": {
          "model_module": "@jupyter-widgets/controls",
          "model_name": "DescriptionStyleModel",
          "state": {
            "_view_name": "StyleView",
            "_model_name": "DescriptionStyleModel",
            "description_width": "",
            "_view_module": "@jupyter-widgets/base",
            "_model_module_version": "1.5.0",
            "_view_count": null,
            "_view_module_version": "1.2.0",
            "_model_module": "@jupyter-widgets/controls"
          }
        },
        "6fec06c4fdae40619f7c82d50acc6d22": {
          "model_module": "@jupyter-widgets/base",
          "model_name": "LayoutModel",
          "state": {
            "_view_name": "LayoutView",
            "grid_template_rows": null,
            "right": null,
            "justify_content": null,
            "_view_module": "@jupyter-widgets/base",
            "overflow": null,
            "_model_module_version": "1.2.0",
            "_view_count": null,
            "flex_flow": null,
            "width": null,
            "min_width": null,
            "border": null,
            "align_items": null,
            "bottom": null,
            "_model_module": "@jupyter-widgets/base",
            "top": null,
            "grid_column": null,
            "overflow_y": null,
            "overflow_x": null,
            "grid_auto_flow": null,
            "grid_area": null,
            "grid_template_columns": null,
            "flex": null,
            "_model_name": "LayoutModel",
            "justify_items": null,
            "grid_row": null,
            "max_height": null,
            "align_content": null,
            "visibility": null,
            "align_self": null,
            "height": null,
            "min_height": null,
            "padding": null,
            "grid_auto_rows": null,
            "grid_gap": null,
            "max_width": null,
            "order": null,
            "_view_module_version": "1.2.0",
            "grid_template_areas": null,
            "object_position": null,
            "object_fit": null,
            "grid_auto_columns": null,
            "margin": null,
            "display": null,
            "left": null
          }
        },
        "ed98f419f3db4c88a8339848d9027eb6": {
          "model_module": "@jupyter-widgets/controls",
          "model_name": "HBoxModel",
          "state": {
            "_view_name": "HBoxView",
            "_dom_classes": [],
            "_model_name": "HBoxModel",
            "_view_module": "@jupyter-widgets/controls",
            "_model_module_version": "1.5.0",
            "_view_count": null,
            "_view_module_version": "1.5.0",
            "box_style": "",
            "layout": "IPY_MODEL_77732a94ddff4960904f112eb4b51d62",
            "_model_module": "@jupyter-widgets/controls",
            "children": [
              "IPY_MODEL_9e9229da32294873b86a4d706c044765",
              "IPY_MODEL_c8a6d79f2c5f4e9ca75c830ed3a463ca"
            ]
          }
        },
        "77732a94ddff4960904f112eb4b51d62": {
          "model_module": "@jupyter-widgets/base",
          "model_name": "LayoutModel",
          "state": {
            "_view_name": "LayoutView",
            "grid_template_rows": null,
            "right": null,
            "justify_content": null,
            "_view_module": "@jupyter-widgets/base",
            "overflow": null,
            "_model_module_version": "1.2.0",
            "_view_count": null,
            "flex_flow": null,
            "width": null,
            "min_width": null,
            "border": null,
            "align_items": null,
            "bottom": null,
            "_model_module": "@jupyter-widgets/base",
            "top": null,
            "grid_column": null,
            "overflow_y": null,
            "overflow_x": null,
            "grid_auto_flow": null,
            "grid_area": null,
            "grid_template_columns": null,
            "flex": null,
            "_model_name": "LayoutModel",
            "justify_items": null,
            "grid_row": null,
            "max_height": null,
            "align_content": null,
            "visibility": null,
            "align_self": null,
            "height": null,
            "min_height": null,
            "padding": null,
            "grid_auto_rows": null,
            "grid_gap": null,
            "max_width": null,
            "order": null,
            "_view_module_version": "1.2.0",
            "grid_template_areas": null,
            "object_position": null,
            "object_fit": null,
            "grid_auto_columns": null,
            "margin": null,
            "display": null,
            "left": null
          }
        },
        "9e9229da32294873b86a4d706c044765": {
          "model_module": "@jupyter-widgets/controls",
          "model_name": "FloatProgressModel",
          "state": {
            "_view_name": "ProgressView",
            "style": "IPY_MODEL_a5f9e701e3ef4a0fb1a9ff911d133ffd",
            "_dom_classes": [],
            "description": "",
            "_model_name": "FloatProgressModel",
            "bar_style": "success",
            "max": 1,
            "_view_module": "@jupyter-widgets/controls",
            "_model_module_version": "1.5.0",
            "value": 1,
            "_view_count": null,
            "_view_module_version": "1.5.0",
            "orientation": "horizontal",
            "min": 0,
            "description_tooltip": null,
            "_model_module": "@jupyter-widgets/controls",
            "layout": "IPY_MODEL_7a63be26fb324c5a8caf8a9fd71d39a6"
          }
        },
        "c8a6d79f2c5f4e9ca75c830ed3a463ca": {
          "model_module": "@jupyter-widgets/controls",
          "model_name": "HTMLModel",
          "state": {
            "_view_name": "HTMLView",
            "style": "IPY_MODEL_18589118863b45ca9a83991dc189bf88",
            "_dom_classes": [],
            "description": "",
            "_model_name": "HTMLModel",
            "placeholder": "​",
            "_view_module": "@jupyter-widgets/controls",
            "_model_module_version": "1.5.0",
            "value": " 1654784/? [00:00&lt;00:00, 1911743.55it/s]",
            "_view_count": null,
            "_view_module_version": "1.5.0",
            "description_tooltip": null,
            "_model_module": "@jupyter-widgets/controls",
            "layout": "IPY_MODEL_541b7eeb03914b7c86929b47235911ec"
          }
        },
        "a5f9e701e3ef4a0fb1a9ff911d133ffd": {
          "model_module": "@jupyter-widgets/controls",
          "model_name": "ProgressStyleModel",
          "state": {
            "_view_name": "StyleView",
            "_model_name": "ProgressStyleModel",
            "description_width": "initial",
            "_view_module": "@jupyter-widgets/base",
            "_model_module_version": "1.5.0",
            "_view_count": null,
            "_view_module_version": "1.2.0",
            "bar_color": null,
            "_model_module": "@jupyter-widgets/controls"
          }
        },
        "7a63be26fb324c5a8caf8a9fd71d39a6": {
          "model_module": "@jupyter-widgets/base",
          "model_name": "LayoutModel",
          "state": {
            "_view_name": "LayoutView",
            "grid_template_rows": null,
            "right": null,
            "justify_content": null,
            "_view_module": "@jupyter-widgets/base",
            "overflow": null,
            "_model_module_version": "1.2.0",
            "_view_count": null,
            "flex_flow": null,
            "width": null,
            "min_width": null,
            "border": null,
            "align_items": null,
            "bottom": null,
            "_model_module": "@jupyter-widgets/base",
            "top": null,
            "grid_column": null,
            "overflow_y": null,
            "overflow_x": null,
            "grid_auto_flow": null,
            "grid_area": null,
            "grid_template_columns": null,
            "flex": null,
            "_model_name": "LayoutModel",
            "justify_items": null,
            "grid_row": null,
            "max_height": null,
            "align_content": null,
            "visibility": null,
            "align_self": null,
            "height": null,
            "min_height": null,
            "padding": null,
            "grid_auto_rows": null,
            "grid_gap": null,
            "max_width": null,
            "order": null,
            "_view_module_version": "1.2.0",
            "grid_template_areas": null,
            "object_position": null,
            "object_fit": null,
            "grid_auto_columns": null,
            "margin": null,
            "display": null,
            "left": null
          }
        },
        "18589118863b45ca9a83991dc189bf88": {
          "model_module": "@jupyter-widgets/controls",
          "model_name": "DescriptionStyleModel",
          "state": {
            "_view_name": "StyleView",
            "_model_name": "DescriptionStyleModel",
            "description_width": "",
            "_view_module": "@jupyter-widgets/base",
            "_model_module_version": "1.5.0",
            "_view_count": null,
            "_view_module_version": "1.2.0",
            "_model_module": "@jupyter-widgets/controls"
          }
        },
        "541b7eeb03914b7c86929b47235911ec": {
          "model_module": "@jupyter-widgets/base",
          "model_name": "LayoutModel",
          "state": {
            "_view_name": "LayoutView",
            "grid_template_rows": null,
            "right": null,
            "justify_content": null,
            "_view_module": "@jupyter-widgets/base",
            "overflow": null,
            "_model_module_version": "1.2.0",
            "_view_count": null,
            "flex_flow": null,
            "width": null,
            "min_width": null,
            "border": null,
            "align_items": null,
            "bottom": null,
            "_model_module": "@jupyter-widgets/base",
            "top": null,
            "grid_column": null,
            "overflow_y": null,
            "overflow_x": null,
            "grid_auto_flow": null,
            "grid_area": null,
            "grid_template_columns": null,
            "flex": null,
            "_model_name": "LayoutModel",
            "justify_items": null,
            "grid_row": null,
            "max_height": null,
            "align_content": null,
            "visibility": null,
            "align_self": null,
            "height": null,
            "min_height": null,
            "padding": null,
            "grid_auto_rows": null,
            "grid_gap": null,
            "max_width": null,
            "order": null,
            "_view_module_version": "1.2.0",
            "grid_template_areas": null,
            "object_position": null,
            "object_fit": null,
            "grid_auto_columns": null,
            "margin": null,
            "display": null,
            "left": null
          }
        },
        "7ac3b9ab777c41f8bc651ab0bcb2f43f": {
          "model_module": "@jupyter-widgets/controls",
          "model_name": "HBoxModel",
          "state": {
            "_view_name": "HBoxView",
            "_dom_classes": [],
            "_model_name": "HBoxModel",
            "_view_module": "@jupyter-widgets/controls",
            "_model_module_version": "1.5.0",
            "_view_count": null,
            "_view_module_version": "1.5.0",
            "box_style": "",
            "layout": "IPY_MODEL_ee77ff9f7b1b4c978e736dc8353f053c",
            "_model_module": "@jupyter-widgets/controls",
            "children": [
              "IPY_MODEL_c1df6f495ad448f1a564ba9566cd0b89",
              "IPY_MODEL_2824933bc2294154a2aa111e018b1e5b"
            ]
          }
        },
        "ee77ff9f7b1b4c978e736dc8353f053c": {
          "model_module": "@jupyter-widgets/base",
          "model_name": "LayoutModel",
          "state": {
            "_view_name": "LayoutView",
            "grid_template_rows": null,
            "right": null,
            "justify_content": null,
            "_view_module": "@jupyter-widgets/base",
            "overflow": null,
            "_model_module_version": "1.2.0",
            "_view_count": null,
            "flex_flow": null,
            "width": null,
            "min_width": null,
            "border": null,
            "align_items": null,
            "bottom": null,
            "_model_module": "@jupyter-widgets/base",
            "top": null,
            "grid_column": null,
            "overflow_y": null,
            "overflow_x": null,
            "grid_auto_flow": null,
            "grid_area": null,
            "grid_template_columns": null,
            "flex": null,
            "_model_name": "LayoutModel",
            "justify_items": null,
            "grid_row": null,
            "max_height": null,
            "align_content": null,
            "visibility": null,
            "align_self": null,
            "height": null,
            "min_height": null,
            "padding": null,
            "grid_auto_rows": null,
            "grid_gap": null,
            "max_width": null,
            "order": null,
            "_view_module_version": "1.2.0",
            "grid_template_areas": null,
            "object_position": null,
            "object_fit": null,
            "grid_auto_columns": null,
            "margin": null,
            "display": null,
            "left": null
          }
        },
        "c1df6f495ad448f1a564ba9566cd0b89": {
          "model_module": "@jupyter-widgets/controls",
          "model_name": "FloatProgressModel",
          "state": {
            "_view_name": "ProgressView",
            "style": "IPY_MODEL_455e4fec6dba4ae9a13119a8d27d10b6",
            "_dom_classes": [],
            "description": "",
            "_model_name": "FloatProgressModel",
            "bar_style": "success",
            "max": 1,
            "_view_module": "@jupyter-widgets/controls",
            "_model_module_version": "1.5.0",
            "value": 1,
            "_view_count": null,
            "_view_module_version": "1.5.0",
            "orientation": "horizontal",
            "min": 0,
            "description_tooltip": null,
            "_model_module": "@jupyter-widgets/controls",
            "layout": "IPY_MODEL_5359f42193e24983a86f2cb4eaa27137"
          }
        },
        "2824933bc2294154a2aa111e018b1e5b": {
          "model_module": "@jupyter-widgets/controls",
          "model_name": "HTMLModel",
          "state": {
            "_view_name": "HTMLView",
            "style": "IPY_MODEL_9e3356606169456193fef7bd6721d57f",
            "_dom_classes": [],
            "description": "",
            "_model_name": "HTMLModel",
            "placeholder": "​",
            "_view_module": "@jupyter-widgets/controls",
            "_model_module_version": "1.5.0",
            "value": " 8192/? [00:00&lt;00:00, 19650.32it/s]",
            "_view_count": null,
            "_view_module_version": "1.5.0",
            "description_tooltip": null,
            "_model_module": "@jupyter-widgets/controls",
            "layout": "IPY_MODEL_7353476f96c341ee821c646454f791b7"
          }
        },
        "455e4fec6dba4ae9a13119a8d27d10b6": {
          "model_module": "@jupyter-widgets/controls",
          "model_name": "ProgressStyleModel",
          "state": {
            "_view_name": "StyleView",
            "_model_name": "ProgressStyleModel",
            "description_width": "initial",
            "_view_module": "@jupyter-widgets/base",
            "_model_module_version": "1.5.0",
            "_view_count": null,
            "_view_module_version": "1.2.0",
            "bar_color": null,
            "_model_module": "@jupyter-widgets/controls"
          }
        },
        "5359f42193e24983a86f2cb4eaa27137": {
          "model_module": "@jupyter-widgets/base",
          "model_name": "LayoutModel",
          "state": {
            "_view_name": "LayoutView",
            "grid_template_rows": null,
            "right": null,
            "justify_content": null,
            "_view_module": "@jupyter-widgets/base",
            "overflow": null,
            "_model_module_version": "1.2.0",
            "_view_count": null,
            "flex_flow": null,
            "width": null,
            "min_width": null,
            "border": null,
            "align_items": null,
            "bottom": null,
            "_model_module": "@jupyter-widgets/base",
            "top": null,
            "grid_column": null,
            "overflow_y": null,
            "overflow_x": null,
            "grid_auto_flow": null,
            "grid_area": null,
            "grid_template_columns": null,
            "flex": null,
            "_model_name": "LayoutModel",
            "justify_items": null,
            "grid_row": null,
            "max_height": null,
            "align_content": null,
            "visibility": null,
            "align_self": null,
            "height": null,
            "min_height": null,
            "padding": null,
            "grid_auto_rows": null,
            "grid_gap": null,
            "max_width": null,
            "order": null,
            "_view_module_version": "1.2.0",
            "grid_template_areas": null,
            "object_position": null,
            "object_fit": null,
            "grid_auto_columns": null,
            "margin": null,
            "display": null,
            "left": null
          }
        },
        "9e3356606169456193fef7bd6721d57f": {
          "model_module": "@jupyter-widgets/controls",
          "model_name": "DescriptionStyleModel",
          "state": {
            "_view_name": "StyleView",
            "_model_name": "DescriptionStyleModel",
            "description_width": "",
            "_view_module": "@jupyter-widgets/base",
            "_model_module_version": "1.5.0",
            "_view_count": null,
            "_view_module_version": "1.2.0",
            "_model_module": "@jupyter-widgets/controls"
          }
        },
        "7353476f96c341ee821c646454f791b7": {
          "model_module": "@jupyter-widgets/base",
          "model_name": "LayoutModel",
          "state": {
            "_view_name": "LayoutView",
            "grid_template_rows": null,
            "right": null,
            "justify_content": null,
            "_view_module": "@jupyter-widgets/base",
            "overflow": null,
            "_model_module_version": "1.2.0",
            "_view_count": null,
            "flex_flow": null,
            "width": null,
            "min_width": null,
            "border": null,
            "align_items": null,
            "bottom": null,
            "_model_module": "@jupyter-widgets/base",
            "top": null,
            "grid_column": null,
            "overflow_y": null,
            "overflow_x": null,
            "grid_auto_flow": null,
            "grid_area": null,
            "grid_template_columns": null,
            "flex": null,
            "_model_name": "LayoutModel",
            "justify_items": null,
            "grid_row": null,
            "max_height": null,
            "align_content": null,
            "visibility": null,
            "align_self": null,
            "height": null,
            "min_height": null,
            "padding": null,
            "grid_auto_rows": null,
            "grid_gap": null,
            "max_width": null,
            "order": null,
            "_view_module_version": "1.2.0",
            "grid_template_areas": null,
            "object_position": null,
            "object_fit": null,
            "grid_auto_columns": null,
            "margin": null,
            "display": null,
            "left": null
          }
        }
      }
    }
  },
  "cells": [
    {
      "cell_type": "markdown",
      "metadata": {
        "id": "pgVIJQ3ZncLj",
        "colab_type": "text"
      },
      "source": [
        "# Semi Supervised Learning"
      ]
    },
    {
      "cell_type": "markdown",
      "metadata": {
        "id": "1Tw5V7Avp0qo",
        "colab_type": "text"
      },
      "source": [
        "# Implementation Details and Discussion"
      ]
    },
    {
      "cell_type": "markdown",
      "metadata": {
        "id": "7jb4U8Oep_Xu",
        "colab_type": "text"
      },
      "source": [
        "* Semi-supervised Learning is an machine learning approach that deals \n",
        "with both label and unlabeled data\n",
        "* The volume of labeled data is very little compared to unlabeled data\n",
        "* Semi supervised learning methods actually use the unlabeled data to modify or to change the priority of the data obtained from labeled data. Some methods are probabilistics also. \n",
        " "
      ]
    },
    {
      "cell_type": "markdown",
      "metadata": {
        "id": "f4NeUOswqdzq",
        "colab_type": "text"
      },
      "source": [
        "# Loading the MNIST Dataset"
      ]
    },
    {
      "cell_type": "code",
      "metadata": {
        "id": "rFF9dBg6JRgb",
        "colab_type": "code",
        "colab": {}
      },
      "source": [
        "from __future__ import print_function\n",
        "import pickle \n",
        "import numpy as np\n",
        "import argparse\n",
        "import torch\n",
        "import torch.nn as nn\n",
        "import torch.nn.functional as F\n",
        "import torch.optim as optim\n",
        "from torchvision import datasets, transforms\n",
        "from torch.autograd import Variable\n",
        "from scipy import ndimage\n",
        "from scipy import misc\n",
        "import matplotlib.pyplot as plt\n",
        "import tensorflow as tf\n",
        "from torch.utils.data import DataLoader\n",
        "from torch.utils.data.dataset import random_split\n",
        "import torchvision\n"
      ],
      "execution_count": null,
      "outputs": []
    },
    {
      "cell_type": "markdown",
      "metadata": {
        "id": "MK_B6gVuSwx1",
        "colab_type": "text"
      },
      "source": [
        "Defining params"
      ]
    },
    {
      "cell_type": "code",
      "metadata": {
        "id": "n8NENnsqgfKk",
        "colab_type": "code",
        "colab": {
          "base_uri": "https://localhost:8080/",
          "height": 34
        },
        "outputId": "82e8d061-0fd8-48d0-9ab8-57847a16997a"
      },
      "source": [
        "n_epochs = 5\n",
        "batch_size_train = 64\n",
        "batch_size_test = 1000\n",
        "learning_rate = 0.01\n",
        "momentum = 0.5\n",
        "log_interval = 10\n",
        "\n",
        "random_seed = 444\n",
        "torch.backends.cudnn.enabled = False\n",
        "torch.manual_seed(random_seed)"
      ],
      "execution_count": null,
      "outputs": [
        {
          "output_type": "execute_result",
          "data": {
            "text/plain": [
              "<torch._C.Generator at 0x7f801034b0c0>"
            ]
          },
          "metadata": {
            "tags": []
          },
          "execution_count": 2
        }
      ]
    },
    {
      "cell_type": "code",
      "metadata": {
        "id": "YjweFGp_x6dr",
        "colab_type": "code",
        "colab": {
          "base_uri": "https://localhost:8080/",
          "height": 366,
          "referenced_widgets": [
            "a3990203469d4f0f8fff82c9b96fc691",
            "7a8cc92da3e64d9d8cf8040816bf6369",
            "b47c58f79886488d9e1b85fc60e04c72",
            "115bc068dcfa476788b75f6887abbe82",
            "62cb0d0194094f4c885d33f0513745e5",
            "b4bc68c36c484d9c8971594e5d7fc195",
            "cbedf821e4654eca835c46e91ffed04c",
            "1c712144642a4d798f677ef70aaf0eee",
            "bd35fdf9c8d54a92a343ca69940416ab",
            "97ea4bc5358346f78e8bb09ec76a61f8",
            "ca411edeeadb49a4b94206b0b639d67f",
            "d18b4839a98e4ef49f82cc7001eb735b",
            "4d2f953e9f084812818b2cbb28b37bc1",
            "c4ae05b3b0194f76b932c97f044c7854",
            "ca0cad69b2a84ef985af5cce0bd74409",
            "6fec06c4fdae40619f7c82d50acc6d22",
            "ed98f419f3db4c88a8339848d9027eb6",
            "77732a94ddff4960904f112eb4b51d62",
            "9e9229da32294873b86a4d706c044765",
            "c8a6d79f2c5f4e9ca75c830ed3a463ca",
            "a5f9e701e3ef4a0fb1a9ff911d133ffd",
            "7a63be26fb324c5a8caf8a9fd71d39a6",
            "18589118863b45ca9a83991dc189bf88",
            "541b7eeb03914b7c86929b47235911ec",
            "7ac3b9ab777c41f8bc651ab0bcb2f43f",
            "ee77ff9f7b1b4c978e736dc8353f053c",
            "c1df6f495ad448f1a564ba9566cd0b89",
            "2824933bc2294154a2aa111e018b1e5b",
            "455e4fec6dba4ae9a13119a8d27d10b6",
            "5359f42193e24983a86f2cb4eaa27137",
            "9e3356606169456193fef7bd6721d57f",
            "7353476f96c341ee821c646454f791b7"
          ]
        },
        "outputId": "a579873f-278d-48e6-e2b3-890bfd3db518"
      },
      "source": [
        "train_loader = torch.utils.data.DataLoader(\n",
        "  torchvision.datasets.MNIST('/files/', train=True, download=True,\n",
        "                             transform=torchvision.transforms.Compose([\n",
        "                               torchvision.transforms.ToTensor(),\n",
        "                               torchvision.transforms.Normalize(\n",
        "                                 (0.1307,), (0.3081,))\n",
        "                             ])),\n",
        "  batch_size=batch_size_train, shuffle=True)\n",
        "\n",
        "test_loader = torch.utils.data.DataLoader(\n",
        "  torchvision.datasets.MNIST('/files/', train=False, download=True,\n",
        "                             transform=torchvision.transforms.Compose([\n",
        "                               torchvision.transforms.ToTensor(),\n",
        "                               torchvision.transforms.Normalize(\n",
        "                                 (0.1307,), (0.3081,))\n",
        "                             ])),\n",
        "  batch_size=batch_size_test, shuffle=True)"
      ],
      "execution_count": null,
      "outputs": [
        {
          "output_type": "stream",
          "text": [
            "Downloading http://yann.lecun.com/exdb/mnist/train-images-idx3-ubyte.gz to /files/MNIST/raw/train-images-idx3-ubyte.gz\n"
          ],
          "name": "stdout"
        },
        {
          "output_type": "display_data",
          "data": {
            "application/vnd.jupyter.widget-view+json": {
              "model_id": "a3990203469d4f0f8fff82c9b96fc691",
              "version_minor": 0,
              "version_major": 2
            },
            "text/plain": [
              "HBox(children=(FloatProgress(value=1.0, bar_style='info', max=1.0), HTML(value='')))"
            ]
          },
          "metadata": {
            "tags": []
          }
        },
        {
          "output_type": "stream",
          "text": [
            "Extracting /files/MNIST/raw/train-images-idx3-ubyte.gz to /files/MNIST/raw\n",
            "Downloading http://yann.lecun.com/exdb/mnist/train-labels-idx1-ubyte.gz to /files/MNIST/raw/train-labels-idx1-ubyte.gz\n"
          ],
          "name": "stdout"
        },
        {
          "output_type": "display_data",
          "data": {
            "application/vnd.jupyter.widget-view+json": {
              "model_id": "bd35fdf9c8d54a92a343ca69940416ab",
              "version_minor": 0,
              "version_major": 2
            },
            "text/plain": [
              "HBox(children=(FloatProgress(value=1.0, bar_style='info', max=1.0), HTML(value='')))"
            ]
          },
          "metadata": {
            "tags": []
          }
        },
        {
          "output_type": "stream",
          "text": [
            "Extracting /files/MNIST/raw/train-labels-idx1-ubyte.gz to /files/MNIST/raw\n",
            "Downloading http://yann.lecun.com/exdb/mnist/t10k-images-idx3-ubyte.gz to /files/MNIST/raw/t10k-images-idx3-ubyte.gz\n"
          ],
          "name": "stdout"
        },
        {
          "output_type": "display_data",
          "data": {
            "application/vnd.jupyter.widget-view+json": {
              "model_id": "ed98f419f3db4c88a8339848d9027eb6",
              "version_minor": 0,
              "version_major": 2
            },
            "text/plain": [
              "HBox(children=(FloatProgress(value=1.0, bar_style='info', max=1.0), HTML(value='')))"
            ]
          },
          "metadata": {
            "tags": []
          }
        },
        {
          "output_type": "stream",
          "text": [
            "Extracting /files/MNIST/raw/t10k-images-idx3-ubyte.gz to /files/MNIST/raw\n",
            "Downloading http://yann.lecun.com/exdb/mnist/t10k-labels-idx1-ubyte.gz to /files/MNIST/raw/t10k-labels-idx1-ubyte.gz\n"
          ],
          "name": "stdout"
        },
        {
          "output_type": "display_data",
          "data": {
            "application/vnd.jupyter.widget-view+json": {
              "model_id": "7ac3b9ab777c41f8bc651ab0bcb2f43f",
              "version_minor": 0,
              "version_major": 2
            },
            "text/plain": [
              "HBox(children=(FloatProgress(value=1.0, bar_style='info', max=1.0), HTML(value='')))"
            ]
          },
          "metadata": {
            "tags": []
          }
        },
        {
          "output_type": "stream",
          "text": [
            "Extracting /files/MNIST/raw/t10k-labels-idx1-ubyte.gz to /files/MNIST/raw\n",
            "Processing...\n",
            "Done!\n"
          ],
          "name": "stdout"
        },
        {
          "output_type": "stream",
          "text": [
            "/usr/local/lib/python3.6/dist-packages/torchvision/datasets/mnist.py:469: UserWarning: The given NumPy array is not writeable, and PyTorch does not support non-writeable tensors. This means you can write to the underlying (supposedly non-writeable) NumPy array using the tensor. You may want to copy the array to protect its data or make it writeable before converting it to a tensor. This type of warning will be suppressed for the rest of this program. (Triggered internally at  /pytorch/torch/csrc/utils/tensor_numpy.cpp:141.)\n",
            "  return torch.from_numpy(parsed.astype(m[2], copy=False)).view(*s)\n"
          ],
          "name": "stderr"
        }
      ]
    },
    {
      "cell_type": "code",
      "metadata": {
        "id": "j6hnj8d9q-IF",
        "colab_type": "code",
        "colab": {}
      },
      "source": [
        "init_dataset =  torchvision.datasets.MNIST('/files/', train=True, download=True,\n",
        "                             transform=torchvision.transforms.Compose([\n",
        "                               torchvision.transforms.ToTensor(),\n",
        "                               torchvision.transforms.Normalize(\n",
        "                                 (0.1307,), (0.3081,))\n",
        "                             ]))\n",
        "\n",
        "\n",
        "val_dataset = torchvision.datasets.MNIST('/files/', train=False, download=True,\n",
        "                             transform=torchvision.transforms.Compose([\n",
        "                               torchvision.transforms.ToTensor(),\n",
        "                               torchvision.transforms.Normalize(\n",
        "                                 (0.1307,), (0.3081,))\n",
        "                             ]))"
      ],
      "execution_count": null,
      "outputs": []
    },
    {
      "cell_type": "code",
      "metadata": {
        "id": "Ia9ZOu55ql4Q",
        "colab_type": "code",
        "colab": {
          "base_uri": "https://localhost:8080/",
          "height": 34
        },
        "outputId": "d87e5086-5cf8-4fe8-c7a0-c5a94918a202"
      },
      "source": [
        "len(init_dataset)\n"
      ],
      "execution_count": null,
      "outputs": [
        {
          "output_type": "execute_result",
          "data": {
            "text/plain": [
              "60000"
            ]
          },
          "metadata": {
            "tags": []
          },
          "execution_count": 5
        }
      ]
    },
    {
      "cell_type": "markdown",
      "metadata": {
        "id": "02dUx8G5pFJb",
        "colab_type": "text"
      },
      "source": [
        "## Data Split (Semi-Supervision based Learning)"
      ]
    },
    {
      "cell_type": "code",
      "metadata": {
        "id": "Y8VAjfxLqQD1",
        "colab_type": "code",
        "colab": {
          "base_uri": "https://localhost:8080/",
          "height": 101
        },
        "outputId": "089bb082-ea64-4d0f-b5bd-90c166149e49"
      },
      "source": [
        "lengths = [int(len(init_dataset)*0.3), int(len(init_dataset)*0.7)]\n",
        "labeled_subsetA, unlabeled_subsetB = random_split(init_dataset, lengths)\n",
        "\n",
        "\n",
        "\n",
        "train_unlabeled_data = [(unlabeled_subsetB[i][0],-1) for i in range(len(unlabeled_subsetB))]\n",
        "len(train_unlabeled_data)"
      ],
      "execution_count": null,
      "outputs": [
        {
          "output_type": "stream",
          "text": [
            "\n",
            "\n",
            "\n",
            "\n"
          ],
          "name": "stdout"
        },
        {
          "output_type": "execute_result",
          "data": {
            "text/plain": [
              "42000"
            ]
          },
          "metadata": {
            "tags": []
          },
          "execution_count": 6
        }
      ]
    },
    {
      "cell_type": "code",
      "metadata": {
        "id": "sd8ZFm9Gt1F0",
        "colab_type": "code",
        "colab": {}
      },
      "source": [
        "def get_data_loaders(train_labeled_data, train_unlabeled_data, test_data, train_batch_size, val_batch_size):\n",
        "    train_loader = DataLoader(train_labeled_data, batch_size=train_batch_size, shuffle=True)\n",
        "    train_unlabeled_loader = DataLoader(train_unlabeled_data, batch_size=train_batch_size, shuffle=True)\n",
        "    val_loader = DataLoader(test_data, batch_size=val_batch_size, shuffle=False,)\n",
        "\n",
        "\n",
        "\n",
        "    return train_loader,train_unlabeled_loader, val_loader"
      ],
      "execution_count": null,
      "outputs": []
    },
    {
      "cell_type": "code",
      "metadata": {
        "id": "IEhLAk4zu5fg",
        "colab_type": "code",
        "colab": {}
      },
      "source": [
        "batch_size_train = 64\n",
        "batch_size_test = 1000\n",
        "\n",
        "train_labeled_loader2,train_unlabeled_loader2,val_loader2 =  get_data_loaders(labeled_subsetA, train_unlabeled_data,val_dataset, batch_size_train, batch_size_test)"
      ],
      "execution_count": null,
      "outputs": []
    },
    {
      "cell_type": "code",
      "metadata": {
        "id": "xdq44oxRi-nD",
        "colab_type": "code",
        "colab": {
          "base_uri": "https://localhost:8080/",
          "height": 50
        },
        "outputId": "900db826-494d-40fd-fac6-e75fc476373c"
      },
      "source": [
        "batch1 = next(iter(train_loader))\n",
        "print(batch1[0].shape)\n",
        "print(batch1[1].shape)\n",
        "len(batch1)\n",
        "examples = enumerate(test_loader)\n",
        "batch_idx, (example_data, example_targets) = next(examples)"
      ],
      "execution_count": null,
      "outputs": [
        {
          "output_type": "stream",
          "text": [
            "torch.Size([64, 1, 28, 28])\n",
            "torch.Size([64])\n"
          ],
          "name": "stdout"
        }
      ]
    },
    {
      "cell_type": "markdown",
      "metadata": {
        "id": "mWflUktWouc5",
        "colab_type": "text"
      },
      "source": [
        "## Structure of NN"
      ]
    },
    {
      "cell_type": "code",
      "metadata": {
        "id": "vwGo4gT_guI1",
        "colab_type": "code",
        "colab": {}
      },
      "source": [
        "class Net(nn.Module):\n",
        "    def __init__(self):\n",
        "        super(Net, self).__init__()\n",
        "        self.conv1 = nn.Conv2d(1, 10, kernel_size=5)\n",
        "        self.conv2 = nn.Conv2d(10, 20, kernel_size=5)\n",
        "        self.conv2_drop = nn.Dropout2d()\n",
        "        self.fc1 = nn.Linear(320, 50)\n",
        "        self.fc2 = nn.Linear(50, 10)\n",
        "\n",
        "    def forward(self, x):\n",
        "        x = F.relu(F.max_pool2d(self.conv1(x), 2))\n",
        "        x = F.relu(F.max_pool2d(self.conv2_drop(self.conv2(x)), 2))\n",
        "        x = x.view(-1, 320)\n",
        "        x = F.relu(self.fc1(x))\n",
        "        x = F.dropout(x, training=self.training)\n",
        "        x = self.fc2(x)\n",
        "        return F.log_softmax(x)"
      ],
      "execution_count": null,
      "outputs": []
    },
    {
      "cell_type": "code",
      "metadata": {
        "id": "A8lcj0xsgxTJ",
        "colab_type": "code",
        "colab": {}
      },
      "source": [
        "network = Net()\n",
        "optimizer = optim.SGD(network.parameters(), lr=learning_rate,\n",
        "                      momentum=momentum)"
      ],
      "execution_count": null,
      "outputs": []
    },
    {
      "cell_type": "code",
      "metadata": {
        "id": "jXtiBjHPg0Wz",
        "colab_type": "code",
        "colab": {}
      },
      "source": [
        "train_losses = []\n",
        "train_counter = []\n",
        "test_losses = []\n",
        "test_counter = [i*len(val_loader2.dataset) for i in range(n_epochs + 1)]"
      ],
      "execution_count": null,
      "outputs": []
    },
    {
      "cell_type": "markdown",
      "metadata": {
        "id": "dLAEq0jAxvXN",
        "colab_type": "text"
      },
      "source": [
        "## Training and Run\n",
        "\n",
        "Taking 10 epochs for optimality"
      ]
    },
    {
      "cell_type": "code",
      "metadata": {
        "id": "Sxe0HG4FwbnF",
        "colab_type": "code",
        "colab": {}
      },
      "source": [
        "num_cycles = 10\n",
        "# training\n",
        "def train2(epoch=10):\n",
        "    network.train()\n",
        "    \n",
        "    #pre-training without unlabeled data \n",
        "    if epoch > num_cycles:\n",
        "        for batch_idx, (data, target) in enumerate(train_unlabeled_loader2):\n",
        "            network.eval()\n",
        "            output = network(data)\n",
        "            fake_target = (output.data.max(1)[1].view(-1)) # using pseudo label method and get pseudo labels\n",
        "            network.train()\n",
        "            #data.volatile = False\n",
        "            optimizer.zero_grad()\n",
        "            output = network(data)\n",
        "            loss = F.nll_loss(output, fake_target)\n",
        "            loss.backward()\n",
        "            optimizer.step()\n",
        "            if batch_idx % 10 == 0:\n",
        "                print('Train Epoch: {} [{}/{} ({:.0f}%)]\\tLoss: {:.6f}'.format(\n",
        "                    epoch, batch_idx * len(data), len(train_unlabeled_loader2.dataset),\n",
        "                    100. * batch_idx / len(train_unlabeled_loader2), loss.item()))\n",
        "\n",
        "    avg_train_loss = 0\n",
        "    for batch_idx, (data, target) in enumerate(train_labeled_loader2):\n",
        "        \n",
        "        \n",
        "        optimizer.zero_grad()\n",
        "        output = network(data)\n",
        "        loss = F.nll_loss(output, target)\n",
        "        loss.backward()\n",
        "        optimizer.step()\n",
        "        if batch_idx % log_interval == 0:\n",
        "            print('Train Epoch: {} [{}/{} ({:.0f}%)]\\tLoss: {:.6f}'.format(\n",
        "                epoch, batch_idx * len(data), len(train_labeled_loader2.dataset),\n",
        "                100. * batch_idx / len(train_labeled_loader2), loss.item()))\n",
        "            avg_train_loss += loss.item()\n",
        "            train_losses.append(loss.item())\n",
        "            train_counter.append(\n",
        "              (batch_idx*64) + ((epoch-1)*len(train_labeled_loader2.dataset)))\n",
        "     \n",
        "    avg_train_loss = avg_train_loss / (len(train_labeled_loader2) / 500)\n",
        "    #loss_compare.write(str(avg_train_loss) + ',') # no need for now\n",
        "\n"
      ],
      "execution_count": null,
      "outputs": []
    },
    {
      "cell_type": "code",
      "metadata": {
        "id": "GVZPptpcg6dz",
        "colab_type": "code",
        "colab": {}
      },
      "source": [
        "def test():\n",
        "  network.eval()\n",
        "  test_loss = 0\n",
        "  correct = 0\n",
        "  with torch.no_grad():\n",
        "    for data, target in val_loader2: #modifing it : test_loader\n",
        "      output = network(data)\n",
        "      test_loss += F.nll_loss(output, target, size_average=False).item()\n",
        "      pred = output.data.max(1, keepdim=True)[1]\n",
        "      correct += pred.eq(target.data.view_as(pred)).sum()\n",
        "  test_loss /= len(val_loader2.dataset)\n",
        "  test_losses.append(test_loss)\n",
        "  print('\\nTest set: Avg. loss: {:.4f}, Accuracy: {}/{} ({:.0f}%)\\n'.format(\n",
        "    test_loss, correct, len(val_loader2.dataset),\n",
        "    100. * correct / len(val_loader2.dataset)))"
      ],
      "execution_count": null,
      "outputs": []
    },
    {
      "cell_type": "code",
      "metadata": {
        "id": "cZLzdJBNg9RN",
        "colab_type": "code",
        "colab": {
          "base_uri": "https://localhost:8080/",
          "height": 1000
        },
        "outputId": "ee64f189-2bbf-481a-bbfc-81f85e5eafe9"
      },
      "source": [
        "for epoch in range(1, n_epochs + 1):\n",
        "  train2(epoch)\n",
        "  test()"
      ],
      "execution_count": null,
      "outputs": [
        {
          "output_type": "stream",
          "text": [
            "/usr/local/lib/python3.6/dist-packages/ipykernel_launcher.py:17: UserWarning: Implicit dimension choice for log_softmax has been deprecated. Change the call to include dim=X as an argument.\n"
          ],
          "name": "stderr"
        },
        {
          "output_type": "stream",
          "text": [
            "Train Epoch: 1 [0/18000 (0%)]\tLoss: 2.327318\n",
            "Train Epoch: 1 [640/18000 (4%)]\tLoss: 2.297417\n",
            "Train Epoch: 1 [1280/18000 (7%)]\tLoss: 2.304221\n",
            "Train Epoch: 1 [1920/18000 (11%)]\tLoss: 2.239717\n",
            "Train Epoch: 1 [2560/18000 (14%)]\tLoss: 2.232871\n",
            "Train Epoch: 1 [3200/18000 (18%)]\tLoss: 2.177955\n",
            "Train Epoch: 1 [3840/18000 (21%)]\tLoss: 2.265682\n",
            "Train Epoch: 1 [4480/18000 (25%)]\tLoss: 2.169823\n",
            "Train Epoch: 1 [5120/18000 (28%)]\tLoss: 2.085249\n",
            "Train Epoch: 1 [5760/18000 (32%)]\tLoss: 2.116937\n",
            "Train Epoch: 1 [6400/18000 (35%)]\tLoss: 1.974185\n",
            "Train Epoch: 1 [7040/18000 (39%)]\tLoss: 1.758047\n",
            "Train Epoch: 1 [7680/18000 (43%)]\tLoss: 1.660230\n",
            "Train Epoch: 1 [8320/18000 (46%)]\tLoss: 1.659180\n",
            "Train Epoch: 1 [8960/18000 (50%)]\tLoss: 1.579361\n",
            "Train Epoch: 1 [9600/18000 (53%)]\tLoss: 1.465800\n",
            "Train Epoch: 1 [10240/18000 (57%)]\tLoss: 1.253776\n",
            "Train Epoch: 1 [10880/18000 (60%)]\tLoss: 1.290704\n",
            "Train Epoch: 1 [11520/18000 (64%)]\tLoss: 1.257462\n",
            "Train Epoch: 1 [12160/18000 (67%)]\tLoss: 1.224267\n",
            "Train Epoch: 1 [12800/18000 (71%)]\tLoss: 0.953868\n",
            "Train Epoch: 1 [13440/18000 (74%)]\tLoss: 0.889307\n",
            "Train Epoch: 1 [14080/18000 (78%)]\tLoss: 1.039726\n",
            "Train Epoch: 1 [14720/18000 (82%)]\tLoss: 1.078259\n",
            "Train Epoch: 1 [15360/18000 (85%)]\tLoss: 0.962253\n",
            "Train Epoch: 1 [16000/18000 (89%)]\tLoss: 0.850760\n",
            "Train Epoch: 1 [16640/18000 (92%)]\tLoss: 0.680097\n",
            "Train Epoch: 1 [17280/18000 (96%)]\tLoss: 0.823686\n",
            "Train Epoch: 1 [17920/18000 (99%)]\tLoss: 0.973647\n"
          ],
          "name": "stdout"
        },
        {
          "output_type": "stream",
          "text": [
            "/usr/local/lib/python3.6/dist-packages/torch/nn/_reduction.py:44: UserWarning: size_average and reduce args will be deprecated, please use reduction='sum' instead.\n",
            "  warnings.warn(warning.format(ret))\n"
          ],
          "name": "stderr"
        },
        {
          "output_type": "stream",
          "text": [
            "\n",
            "Test set: Avg. loss: 0.4686, Accuracy: 8876/10000 (89%)\n",
            "\n",
            "Train Epoch: 2 [0/18000 (0%)]\tLoss: 0.977846\n",
            "Train Epoch: 2 [640/18000 (4%)]\tLoss: 0.860509\n",
            "Train Epoch: 2 [1280/18000 (7%)]\tLoss: 0.804900\n",
            "Train Epoch: 2 [1920/18000 (11%)]\tLoss: 0.874034\n",
            "Train Epoch: 2 [2560/18000 (14%)]\tLoss: 0.637267\n",
            "Train Epoch: 2 [3200/18000 (18%)]\tLoss: 0.687312\n",
            "Train Epoch: 2 [3840/18000 (21%)]\tLoss: 0.823312\n",
            "Train Epoch: 2 [4480/18000 (25%)]\tLoss: 0.738046\n",
            "Train Epoch: 2 [5120/18000 (28%)]\tLoss: 0.732257\n",
            "Train Epoch: 2 [5760/18000 (32%)]\tLoss: 0.731674\n",
            "Train Epoch: 2 [6400/18000 (35%)]\tLoss: 0.421929\n",
            "Train Epoch: 2 [7040/18000 (39%)]\tLoss: 0.703925\n",
            "Train Epoch: 2 [7680/18000 (43%)]\tLoss: 0.608449\n",
            "Train Epoch: 2 [8320/18000 (46%)]\tLoss: 0.851965\n",
            "Train Epoch: 2 [8960/18000 (50%)]\tLoss: 0.912012\n",
            "Train Epoch: 2 [9600/18000 (53%)]\tLoss: 0.964750\n",
            "Train Epoch: 2 [10240/18000 (57%)]\tLoss: 0.688519\n",
            "Train Epoch: 2 [10880/18000 (60%)]\tLoss: 0.832637\n",
            "Train Epoch: 2 [11520/18000 (64%)]\tLoss: 0.670635\n",
            "Train Epoch: 2 [12160/18000 (67%)]\tLoss: 0.630428\n",
            "Train Epoch: 2 [12800/18000 (71%)]\tLoss: 0.712321\n",
            "Train Epoch: 2 [13440/18000 (74%)]\tLoss: 0.620214\n",
            "Train Epoch: 2 [14080/18000 (78%)]\tLoss: 0.451485\n",
            "Train Epoch: 2 [14720/18000 (82%)]\tLoss: 0.412778\n",
            "Train Epoch: 2 [15360/18000 (85%)]\tLoss: 0.576271\n",
            "Train Epoch: 2 [16000/18000 (89%)]\tLoss: 0.667139\n",
            "Train Epoch: 2 [16640/18000 (92%)]\tLoss: 0.541629\n",
            "Train Epoch: 2 [17280/18000 (96%)]\tLoss: 0.691021\n",
            "Train Epoch: 2 [17920/18000 (99%)]\tLoss: 0.562147\n",
            "\n",
            "Test set: Avg. loss: 0.2636, Accuracy: 9248/10000 (92%)\n",
            "\n",
            "Train Epoch: 3 [0/18000 (0%)]\tLoss: 0.506068\n",
            "Train Epoch: 3 [640/18000 (4%)]\tLoss: 0.523671\n",
            "Train Epoch: 3 [1280/18000 (7%)]\tLoss: 0.653114\n",
            "Train Epoch: 3 [1920/18000 (11%)]\tLoss: 0.449890\n",
            "Train Epoch: 3 [2560/18000 (14%)]\tLoss: 0.910375\n",
            "Train Epoch: 3 [3200/18000 (18%)]\tLoss: 0.552864\n",
            "Train Epoch: 3 [3840/18000 (21%)]\tLoss: 0.480036\n",
            "Train Epoch: 3 [4480/18000 (25%)]\tLoss: 0.347627\n",
            "Train Epoch: 3 [5120/18000 (28%)]\tLoss: 0.681254\n",
            "Train Epoch: 3 [5760/18000 (32%)]\tLoss: 0.363965\n",
            "Train Epoch: 3 [6400/18000 (35%)]\tLoss: 0.636899\n",
            "Train Epoch: 3 [7040/18000 (39%)]\tLoss: 0.461331\n",
            "Train Epoch: 3 [7680/18000 (43%)]\tLoss: 0.446167\n",
            "Train Epoch: 3 [8320/18000 (46%)]\tLoss: 0.749011\n",
            "Train Epoch: 3 [8960/18000 (50%)]\tLoss: 0.376233\n",
            "Train Epoch: 3 [9600/18000 (53%)]\tLoss: 0.377828\n",
            "Train Epoch: 3 [10240/18000 (57%)]\tLoss: 0.615556\n",
            "Train Epoch: 3 [10880/18000 (60%)]\tLoss: 0.448929\n",
            "Train Epoch: 3 [11520/18000 (64%)]\tLoss: 0.450438\n",
            "Train Epoch: 3 [12160/18000 (67%)]\tLoss: 0.442863\n",
            "Train Epoch: 3 [12800/18000 (71%)]\tLoss: 0.410702\n",
            "Train Epoch: 3 [13440/18000 (74%)]\tLoss: 0.557431\n",
            "Train Epoch: 3 [14080/18000 (78%)]\tLoss: 0.575797\n",
            "Train Epoch: 3 [14720/18000 (82%)]\tLoss: 0.414175\n",
            "Train Epoch: 3 [15360/18000 (85%)]\tLoss: 0.439084\n",
            "Train Epoch: 3 [16000/18000 (89%)]\tLoss: 0.389124\n",
            "Train Epoch: 3 [16640/18000 (92%)]\tLoss: 0.331208\n",
            "Train Epoch: 3 [17280/18000 (96%)]\tLoss: 0.453354\n",
            "Train Epoch: 3 [17920/18000 (99%)]\tLoss: 0.428216\n",
            "\n",
            "Test set: Avg. loss: 0.2036, Accuracy: 9441/10000 (94%)\n",
            "\n",
            "Train Epoch: 4 [0/18000 (0%)]\tLoss: 0.466284\n",
            "Train Epoch: 4 [640/18000 (4%)]\tLoss: 0.346413\n",
            "Train Epoch: 4 [1280/18000 (7%)]\tLoss: 0.401697\n",
            "Train Epoch: 4 [1920/18000 (11%)]\tLoss: 0.437291\n",
            "Train Epoch: 4 [2560/18000 (14%)]\tLoss: 0.456101\n",
            "Train Epoch: 4 [3200/18000 (18%)]\tLoss: 0.349783\n",
            "Train Epoch: 4 [3840/18000 (21%)]\tLoss: 0.744604\n",
            "Train Epoch: 4 [4480/18000 (25%)]\tLoss: 0.331134\n",
            "Train Epoch: 4 [5120/18000 (28%)]\tLoss: 0.723419\n",
            "Train Epoch: 4 [5760/18000 (32%)]\tLoss: 0.563947\n",
            "Train Epoch: 4 [6400/18000 (35%)]\tLoss: 0.381456\n",
            "Train Epoch: 4 [7040/18000 (39%)]\tLoss: 0.324866\n",
            "Train Epoch: 4 [7680/18000 (43%)]\tLoss: 0.538597\n",
            "Train Epoch: 4 [8320/18000 (46%)]\tLoss: 0.328539\n",
            "Train Epoch: 4 [8960/18000 (50%)]\tLoss: 0.443359\n",
            "Train Epoch: 4 [9600/18000 (53%)]\tLoss: 0.444593\n",
            "Train Epoch: 4 [10240/18000 (57%)]\tLoss: 0.478823\n",
            "Train Epoch: 4 [10880/18000 (60%)]\tLoss: 0.301090\n",
            "Train Epoch: 4 [11520/18000 (64%)]\tLoss: 0.502974\n",
            "Train Epoch: 4 [12160/18000 (67%)]\tLoss: 0.415393\n",
            "Train Epoch: 4 [12800/18000 (71%)]\tLoss: 0.400810\n",
            "Train Epoch: 4 [13440/18000 (74%)]\tLoss: 0.412681\n",
            "Train Epoch: 4 [14080/18000 (78%)]\tLoss: 0.522808\n",
            "Train Epoch: 4 [14720/18000 (82%)]\tLoss: 0.413371\n",
            "Train Epoch: 4 [15360/18000 (85%)]\tLoss: 0.290895\n",
            "Train Epoch: 4 [16000/18000 (89%)]\tLoss: 0.388804\n",
            "Train Epoch: 4 [16640/18000 (92%)]\tLoss: 0.211112\n",
            "Train Epoch: 4 [17280/18000 (96%)]\tLoss: 0.685827\n",
            "Train Epoch: 4 [17920/18000 (99%)]\tLoss: 0.601137\n",
            "\n",
            "Test set: Avg. loss: 0.1688, Accuracy: 9513/10000 (95%)\n",
            "\n",
            "Train Epoch: 5 [0/18000 (0%)]\tLoss: 0.447643\n",
            "Train Epoch: 5 [640/18000 (4%)]\tLoss: 0.454614\n",
            "Train Epoch: 5 [1280/18000 (7%)]\tLoss: 0.435163\n",
            "Train Epoch: 5 [1920/18000 (11%)]\tLoss: 0.740176\n",
            "Train Epoch: 5 [2560/18000 (14%)]\tLoss: 0.331518\n",
            "Train Epoch: 5 [3200/18000 (18%)]\tLoss: 0.381387\n",
            "Train Epoch: 5 [3840/18000 (21%)]\tLoss: 0.265041\n",
            "Train Epoch: 5 [4480/18000 (25%)]\tLoss: 0.567103\n",
            "Train Epoch: 5 [5120/18000 (28%)]\tLoss: 0.395018\n",
            "Train Epoch: 5 [5760/18000 (32%)]\tLoss: 0.412141\n",
            "Train Epoch: 5 [6400/18000 (35%)]\tLoss: 0.316826\n",
            "Train Epoch: 5 [7040/18000 (39%)]\tLoss: 0.559264\n",
            "Train Epoch: 5 [7680/18000 (43%)]\tLoss: 0.608650\n",
            "Train Epoch: 5 [8320/18000 (46%)]\tLoss: 0.362988\n",
            "Train Epoch: 5 [8960/18000 (50%)]\tLoss: 0.399489\n",
            "Train Epoch: 5 [9600/18000 (53%)]\tLoss: 0.454353\n",
            "Train Epoch: 5 [10240/18000 (57%)]\tLoss: 0.240469\n",
            "Train Epoch: 5 [10880/18000 (60%)]\tLoss: 0.532082\n",
            "Train Epoch: 5 [11520/18000 (64%)]\tLoss: 0.550609\n",
            "Train Epoch: 5 [12160/18000 (67%)]\tLoss: 0.524921\n",
            "Train Epoch: 5 [12800/18000 (71%)]\tLoss: 0.604903\n",
            "Train Epoch: 5 [13440/18000 (74%)]\tLoss: 0.426602\n",
            "Train Epoch: 5 [14080/18000 (78%)]\tLoss: 0.304387\n",
            "Train Epoch: 5 [14720/18000 (82%)]\tLoss: 0.307276\n",
            "Train Epoch: 5 [15360/18000 (85%)]\tLoss: 0.514094\n",
            "Train Epoch: 5 [16000/18000 (89%)]\tLoss: 0.375075\n",
            "Train Epoch: 5 [16640/18000 (92%)]\tLoss: 0.437381\n",
            "Train Epoch: 5 [17280/18000 (96%)]\tLoss: 0.689478\n",
            "Train Epoch: 5 [17920/18000 (99%)]\tLoss: 0.264287\n",
            "\n",
            "Test set: Avg. loss: 0.1484, Accuracy: 9563/10000 (96%)\n",
            "\n"
          ],
          "name": "stdout"
        }
      ]
    },
    {
      "cell_type": "code",
      "metadata": {
        "id": "dFC0z8-Cv0Eq",
        "colab_type": "code",
        "colab": {
          "base_uri": "https://localhost:8080/",
          "height": 50
        },
        "outputId": "4a2a47d6-4c9f-4bf6-d922-241bafeca6b5"
      },
      "source": [
        "# fixing the shape issue\n",
        "print(n_epochs)\n",
        "len(test_losses)\n",
        "\n",
        "len(test_counter)"
      ],
      "execution_count": null,
      "outputs": [
        {
          "output_type": "stream",
          "text": [
            "5\n"
          ],
          "name": "stdout"
        },
        {
          "output_type": "execute_result",
          "data": {
            "text/plain": [
              "6"
            ]
          },
          "metadata": {
            "tags": []
          },
          "execution_count": 16
        }
      ]
    },
    {
      "cell_type": "code",
      "metadata": {
        "id": "s0b8qoSFhDFf",
        "colab_type": "code",
        "colab": {
          "base_uri": "https://localhost:8080/",
          "height": 54
        },
        "outputId": "b7edb522-e375-49d2-bf4d-277c59312259"
      },
      "source": [
        "with torch.no_grad():\n",
        "  output = network(example_data)"
      ],
      "execution_count": null,
      "outputs": [
        {
          "output_type": "stream",
          "text": [
            "/usr/local/lib/python3.6/dist-packages/ipykernel_launcher.py:17: UserWarning: Implicit dimension choice for log_softmax has been deprecated. Change the call to include dim=X as an argument.\n"
          ],
          "name": "stderr"
        }
      ]
    },
    {
      "cell_type": "markdown",
      "metadata": {
        "id": "Stlv-UGhohtj",
        "colab_type": "text"
      },
      "source": [
        "## Accuracy"
      ]
    },
    {
      "cell_type": "code",
      "metadata": {
        "id": "NarPid42hIzJ",
        "colab_type": "code",
        "colab": {
          "base_uri": "https://localhost:8080/",
          "height": 551
        },
        "outputId": "f2713ff4-fff4-4ab7-abdd-14769954cca1"
      },
      "source": [
        "fig = plt.figure()\n",
        "for i in range(6):\n",
        "  plt.subplot(2,3,i+1)\n",
        "  plt.tight_layout()\n",
        "  plt.imshow(example_data[i][0], cmap='gray', interpolation='none')\n",
        "  plt.title(\"Prediction: {}\".format(\n",
        "    output.data.max(1, keepdim=True)[1][i].item()))\n",
        "  plt.xticks([])\n",
        "  plt.yticks([])\n",
        "fig"
      ],
      "execution_count": null,
      "outputs": [
        {
          "output_type": "execute_result",
          "data": {
            "image/png": "[encoded data removed]",
            "text/plain": [
              "<Figure size 432x288 with 6 Axes>"
            ]
          },
          "metadata": {
            "tags": []
          },
          "execution_count": 18
        },
        {
          "output_type": "display_data",
          "data": {
            "image/png": "[encoded data removed]",
            "text/plain": [
              "<Figure size 432x288 with 6 Axes>"
            ]
          },
          "metadata": {
            "tags": []
          }
        }
      ]
    }
  ]
}