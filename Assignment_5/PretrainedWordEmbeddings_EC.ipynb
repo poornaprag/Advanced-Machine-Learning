{
  "nbformat": 4,
  "nbformat_minor": 0,
  "metadata": {
    "colab": {
      "name": "ExtraCredit_PretrainedWordEmbeddings",
      "provenance": [],
      "collapsed_sections": []
    },
    "kernelspec": {
      "display_name": "Python 3",
      "language": "python",
      "name": "python3"
    },
    "language_info": {
      "codemirror_mode": {
        "name": "ipython",
        "version": 3
      },
      "file_extension": ".py",
      "mimetype": "text/x-python",
      "name": "python",
      "nbconvert_exporter": "python",
      "pygments_lexer": "ipython3",
      "version": "3.7.0"
    },
    "accelerator": "GPU"
  },
  "cells": [
    {
      "cell_type": "code",
      "metadata": {
        "id": "eGa5GSv6hyqO"
      },
      "source": [
        "import numpy as np\n",
        "import tensorflow as tf\n",
        "from tensorflow import keras"
      ],
      "execution_count": null,
      "outputs": []
    },
    {
      "cell_type": "code",
      "metadata": {
        "id": "uzj4s2TjhyqQ",
        "colab": {
          "base_uri": "https://localhost:8080/"
        },
        "outputId": "1dee47a9-38f6-42da-fbb6-697ed37e5b84"
      },
      "source": [
        "data_path = keras.utils.get_file(\n",
        "    \"news20.tar.gz\",\n",
        "    \"http://www.cs.cmu.edu/afs/cs.cmu.edu/project/theo-20/www/data/news20.tar.gz\",\n",
        "    untar=True,\n",
        ")"
      ],
      "execution_count": null,
      "outputs": [
        {
          "output_type": "stream",
          "text": [
            "Downloading data from http://www.cs.cmu.edu/afs/cs.cmu.edu/project/theo-20/www/data/news20.tar.gz\n",
            "17334272/17329808 [==============================] - 7s 0us/step\n"
          ],
          "name": "stdout"
        }
      ]
    },
    {
      "cell_type": "code",
      "metadata": {
        "id": "tFyIpI9FhyqR",
        "colab": {
          "base_uri": "https://localhost:8080/"
        },
        "outputId": "4d00fab6-70d3-4bbc-f2ff-a1eae33d4b7c"
      },
      "source": [
        "import os\n",
        "import pathlib\n",
        "\n",
        "data_dir = pathlib.Path(data_path).parent / \"20_newsgroup\"\n",
        "dirnames = os.listdir(data_dir)\n",
        "print(\"Number of directories:\", len(dirnames))\n",
        "print(\"Directory names:\", dirnames)\n",
        "\n",
        "fnames = os.listdir(data_dir / \"comp.graphics\")\n",
        "print(\"Number of files in comp.graphics:\", len(fnames))\n",
        "print(\"Some example filenames:\", fnames[:5])"
      ],
      "execution_count": null,
      "outputs": [
        {
          "output_type": "stream",
          "text": [
            "Number of directories: 20\n",
            "Directory names: ['sci.space', 'comp.os.ms-windows.misc', 'comp.sys.mac.hardware', 'rec.sport.hockey', 'soc.religion.christian', 'talk.religion.misc', 'alt.atheism', 'misc.forsale', 'comp.windows.x', 'rec.autos', 'rec.motorcycles', 'talk.politics.misc', 'rec.sport.baseball', 'comp.sys.ibm.pc.hardware', 'sci.crypt', 'sci.electronics', 'sci.med', 'comp.graphics', 'talk.politics.guns', 'talk.politics.mideast']\n",
            "Number of files in comp.graphics: 1000\n",
            "Some example filenames: ['39026', '38399', '38214', '38572', '39044']\n"
          ],
          "name": "stdout"
        }
      ]
    },
    {
      "cell_type": "code",
      "metadata": {
        "id": "tiSmPB5ihyqS",
        "colab": {
          "base_uri": "https://localhost:8080/"
        },
        "outputId": "c0461eb7-646e-4356-b99b-66c4754b8277"
      },
      "source": [
        "print(open(data_dir / \"comp.graphics\" / \"38987\").read())"
      ],
      "execution_count": null,
      "outputs": [
        {
          "output_type": "stream",
          "text": [
            "Newsgroups: comp.graphics\n",
            "Path: cantaloupe.srv.cs.cmu.edu!das-news.harvard.edu!noc.near.net!howland.reston.ans.net!agate!dog.ee.lbl.gov!network.ucsd.edu!usc!rpi!nason110.its.rpi.edu!mabusj\n",
            "From: mabusj@nason110.its.rpi.edu (Jasen M. Mabus)\n",
            "Subject: Looking for Brain in CAD\n",
            "Message-ID: <c285m+p@rpi.edu>\n",
            "Nntp-Posting-Host: nason110.its.rpi.edu\n",
            "Reply-To: mabusj@rpi.edu\n",
            "Organization: Rensselaer Polytechnic Institute, Troy, NY.\n",
            "Date: Thu, 29 Apr 1993 23:27:20 GMT\n",
            "Lines: 7\n",
            "\n",
            "Jasen Mabus\n",
            "RPI student\n",
            "\n",
            "\tI am looking for a hman brain in any CAD (.dxf,.cad,.iges,.cgm,etc.) or picture (.gif,.jpg,.ras,etc.) format for an animation demonstration. If any has or knows of a location please reply by e-mail to mabusj@rpi.edu.\n",
            "\n",
            "Thank you in advance,\n",
            "Jasen Mabus  \n",
            "\n"
          ],
          "name": "stdout"
        }
      ]
    },
    {
      "cell_type": "code",
      "metadata": {
        "id": "ar05sBIOhyqT",
        "colab": {
          "base_uri": "https://localhost:8080/"
        },
        "outputId": "d75c2f9c-523c-43f2-b99c-dabcfa2a60c5"
      },
      "source": [
        "samples = []\n",
        "labels = []\n",
        "class_names = []\n",
        "class_index = 0\n",
        "for dirname in sorted(os.listdir(data_dir)):\n",
        "    class_names.append(dirname)\n",
        "    dirpath = data_dir / dirname\n",
        "    fnames = os.listdir(dirpath)\n",
        "    print(\"Processing %s, %d files found\" % (dirname, len(fnames)))\n",
        "    for fname in fnames:\n",
        "        fpath = dirpath / fname\n",
        "        f = open(fpath, encoding=\"latin-1\")\n",
        "        content = f.read()\n",
        "        lines = content.split(\"\\n\")\n",
        "        lines = lines[10:]\n",
        "        content = \"\\n\".join(lines)\n",
        "        samples.append(content)\n",
        "        labels.append(class_index)\n",
        "    class_index += 1\n",
        "\n",
        "print(\"Classes:\", class_names)\n",
        "print(\"Number of samples:\", len(samples))"
      ],
      "execution_count": null,
      "outputs": [
        {
          "output_type": "stream",
          "text": [
            "Processing alt.atheism, 1000 files found\n",
            "Processing comp.graphics, 1000 files found\n",
            "Processing comp.os.ms-windows.misc, 1000 files found\n",
            "Processing comp.sys.ibm.pc.hardware, 1000 files found\n",
            "Processing comp.sys.mac.hardware, 1000 files found\n",
            "Processing comp.windows.x, 1000 files found\n",
            "Processing misc.forsale, 1000 files found\n",
            "Processing rec.autos, 1000 files found\n",
            "Processing rec.motorcycles, 1000 files found\n",
            "Processing rec.sport.baseball, 1000 files found\n",
            "Processing rec.sport.hockey, 1000 files found\n",
            "Processing sci.crypt, 1000 files found\n",
            "Processing sci.electronics, 1000 files found\n",
            "Processing sci.med, 1000 files found\n",
            "Processing sci.space, 1000 files found\n",
            "Processing soc.religion.christian, 997 files found\n",
            "Processing talk.politics.guns, 1000 files found\n",
            "Processing talk.politics.mideast, 1000 files found\n",
            "Processing talk.politics.misc, 1000 files found\n",
            "Processing talk.religion.misc, 1000 files found\n",
            "Classes: ['alt.atheism', 'comp.graphics', 'comp.os.ms-windows.misc', 'comp.sys.ibm.pc.hardware', 'comp.sys.mac.hardware', 'comp.windows.x', 'misc.forsale', 'rec.autos', 'rec.motorcycles', 'rec.sport.baseball', 'rec.sport.hockey', 'sci.crypt', 'sci.electronics', 'sci.med', 'sci.space', 'soc.religion.christian', 'talk.politics.guns', 'talk.politics.mideast', 'talk.politics.misc', 'talk.religion.misc']\n",
            "Number of samples: 19997\n"
          ],
          "name": "stdout"
        }
      ]
    },
    {
      "cell_type": "code",
      "metadata": {
        "id": "amO2wzyThyqU"
      },
      "source": [
        "# Shuffle the data\n",
        "seed = 1337\n",
        "rng = np.random.RandomState(seed)\n",
        "rng.shuffle(samples)\n",
        "rng = np.random.RandomState(seed)\n",
        "rng.shuffle(labels)\n",
        "\n",
        "# Extract a training & validation split\n",
        "validation_split = 0.2\n",
        "num_validation_samples = int(validation_split * len(samples))\n",
        "train_samples = samples[:-num_validation_samples]\n",
        "val_samples = samples[-num_validation_samples:]\n",
        "train_labels = labels[:-num_validation_samples]\n",
        "val_labels = labels[-num_validation_samples:]"
      ],
      "execution_count": null,
      "outputs": []
    },
    {
      "cell_type": "code",
      "metadata": {
        "id": "ft6SrHbPhyqV"
      },
      "source": [
        "from tensorflow.keras.layers.experimental.preprocessing import TextVectorization\n",
        "\n",
        "vectorizer = TextVectorization(max_tokens=20000, output_sequence_length=200)\n",
        "text_ds = tf.data.Dataset.from_tensor_slices(train_samples).batch(128)\n",
        "vectorizer.adapt(text_ds)"
      ],
      "execution_count": null,
      "outputs": []
    },
    {
      "cell_type": "code",
      "metadata": {
        "id": "NEqnAc3thyqV",
        "colab": {
          "base_uri": "https://localhost:8080/"
        },
        "outputId": "f441de14-6f92-471a-ae70-bd76a55896c7"
      },
      "source": [
        "vectorizer.get_vocabulary()[:5]"
      ],
      "execution_count": null,
      "outputs": [
        {
          "output_type": "execute_result",
          "data": {
            "text/plain": [
              "['', '[UNK]', 'the', 'to', 'of']"
            ]
          },
          "metadata": {
            "tags": []
          },
          "execution_count": 8
        }
      ]
    },
    {
      "cell_type": "code",
      "metadata": {
        "id": "2CHvyl_VhyqW",
        "colab": {
          "base_uri": "https://localhost:8080/"
        },
        "outputId": "41d66b0e-9e00-40a7-9afa-2b4e8a0b6092"
      },
      "source": [
        "output = vectorizer([[\"the cat sat on the mat\"]])\n",
        "output.numpy()[0, :6]"
      ],
      "execution_count": null,
      "outputs": [
        {
          "output_type": "execute_result",
          "data": {
            "text/plain": [
              "array([   2, 3593, 1842,   15,    2, 5961])"
            ]
          },
          "metadata": {
            "tags": []
          },
          "execution_count": 9
        }
      ]
    },
    {
      "cell_type": "code",
      "metadata": {
        "id": "Fei7n7ekhyqW"
      },
      "source": [
        "voc = vectorizer.get_vocabulary()\n",
        "word_index = dict(zip(voc, range(len(voc))))"
      ],
      "execution_count": null,
      "outputs": []
    },
    {
      "cell_type": "code",
      "metadata": {
        "id": "YVpSu4ujhyqW",
        "colab": {
          "base_uri": "https://localhost:8080/"
        },
        "outputId": "561895ac-2681-481d-d306-366b646eda71"
      },
      "source": [
        "test = [\"the\", \"cat\", \"sat\", \"on\", \"the\", \"mat\"]\n",
        "[word_index[w] for w in test]"
      ],
      "execution_count": null,
      "outputs": [
        {
          "output_type": "execute_result",
          "data": {
            "text/plain": [
              "[2, 3593, 1842, 15, 2, 5961]"
            ]
          },
          "metadata": {
            "tags": []
          },
          "execution_count": 11
        }
      ]
    },
    {
      "cell_type": "code",
      "metadata": {
        "id": "GtKF3tYBiaWW"
      },
      "source": [
        "#!wget http://nlp.stanford.edu/data/glove.6B.zip"
      ],
      "execution_count": null,
      "outputs": []
    },
    {
      "cell_type": "code",
      "metadata": {
        "id": "ASvX3RMWicbw"
      },
      "source": [
        "#!unzip -q glove.6B.zip"
      ],
      "execution_count": null,
      "outputs": []
    },
    {
      "cell_type": "code",
      "metadata": {
        "id": "ludeheG-iGW-",
        "colab": {
          "base_uri": "https://localhost:8080/"
        },
        "outputId": "2cf860de-8031-4953-9127-4d404d8d7843"
      },
      "source": [
        "from google.colab import drive\n",
        "drive.mount('/content/drive')\n",
        "root_dir = \"/content/drive/MyDrive/\"\n",
        "base_dir = root_dir + 'DeepLearningProjects/input'"
      ],
      "execution_count": null,
      "outputs": [
        {
          "output_type": "stream",
          "text": [
            "Mounted at /content/drive\n"
          ],
          "name": "stdout"
        }
      ]
    },
    {
      "cell_type": "code",
      "metadata": {
        "id": "oW1lXGuuhyqX",
        "colab": {
          "base_uri": "https://localhost:8080/"
        },
        "outputId": "57e3be43-518d-4ca3-9119-82cd3db31629"
      },
      "source": [
        "# path_to_glove_file = os.path.join(\n",
        "#     os.path.expanduser(\"~\"), \".keras/datasets/glove.6B.100d.txt\"\n",
        "# )\n",
        "path_to_glove_file = base_dir + \"/glove.6B.100d.txt\"\n",
        "### /content/drive/MyDrive/DeepLearningProjects/input/glove.6B.100d.txt\n",
        "embeddings_index = {}\n",
        "with open(path_to_glove_file) as f:\n",
        "    for line in f:\n",
        "        word, coefs = line.split(maxsplit=1)\n",
        "        coefs = np.fromstring(coefs, \"f\", sep=\" \")\n",
        "        embeddings_index[word] = coefs\n",
        "\n",
        "print(\"Found %s word vectors.\" % len(embeddings_index))"
      ],
      "execution_count": null,
      "outputs": [
        {
          "output_type": "stream",
          "text": [
            "Found 400000 word vectors.\n"
          ],
          "name": "stdout"
        }
      ]
    },
    {
      "cell_type": "code",
      "metadata": {
        "id": "cSoNVPQ2hyqY",
        "colab": {
          "base_uri": "https://localhost:8080/"
        },
        "outputId": "2792db02-9f73-4d9a-8188-e1204a4cacac"
      },
      "source": [
        "num_tokens = len(voc) + 2\n",
        "embedding_dim = 100\n",
        "hits = 0\n",
        "misses = 0\n",
        "\n",
        "# Prepare embedding matrix\n",
        "embedding_matrix = np.zeros((num_tokens, embedding_dim))\n",
        "for word, i in word_index.items():\n",
        "    embedding_vector = embeddings_index.get(word)\n",
        "    if embedding_vector is not None:\n",
        "        # Words not found in embedding index will be all-zeros.\n",
        "        # This includes the representation for \"padding\" and \"OOV\"\n",
        "        embedding_matrix[i] = embedding_vector\n",
        "        hits += 1\n",
        "    else:\n",
        "        misses += 1\n",
        "print(\"Converted %d words (%d misses)\" % (hits, misses))\n"
      ],
      "execution_count": null,
      "outputs": [
        {
          "output_type": "stream",
          "text": [
            "Converted 17961 words (2039 misses)\n"
          ],
          "name": "stdout"
        }
      ]
    },
    {
      "cell_type": "code",
      "metadata": {
        "id": "gGV4evWrhyqZ"
      },
      "source": [
        "from tensorflow.keras.layers import Embedding\n",
        "\n",
        "embedding_layer = Embedding(\n",
        "    num_tokens,\n",
        "    embedding_dim,\n",
        "    embeddings_initializer=keras.initializers.Constant(embedding_matrix),\n",
        "    trainable=False,\n",
        ")"
      ],
      "execution_count": null,
      "outputs": []
    },
    {
      "cell_type": "code",
      "metadata": {
        "id": "iXpczArxhyqZ"
      },
      "source": [
        "from tensorflow.keras import layers\n",
        "\n",
        "int_sequences_input = keras.Input(shape=(None,), dtype=\"int64\")\n",
        "embedded_sequences = embedding_layer(int_sequences_input)\n",
        "x = layers.Conv1D(128, 5, activation=\"relu\")(embedded_sequences)\n",
        "x = layers.MaxPooling1D(5)(x)\n",
        "x = layers.Conv1D(128, 5, activation=\"relu\")(x)\n",
        "x = layers.MaxPooling1D(5)(x)\n",
        "x = layers.Conv1D(128, 5, activation=\"relu\")(x)\n",
        "x = layers.GlobalMaxPooling1D()(x)\n",
        "x = layers.Dense(128, activation=\"relu\")(x)\n",
        "x = layers.Dropout(0.5)(x)\n",
        "preds = layers.Dense(len(class_names), activation=\"softmax\")(x)\n",
        "model = keras.Model(int_sequences_input, preds)\n",
        "#model.summary()"
      ],
      "execution_count": null,
      "outputs": []
    },
    {
      "cell_type": "code",
      "metadata": {
        "id": "HgublYO7hyqa"
      },
      "source": [
        "x_train = vectorizer(np.array([[s] for s in train_samples])).numpy()\n",
        "x_val = vectorizer(np.array([[s] for s in val_samples])).numpy()\n",
        "\n",
        "y_train = np.array(train_labels)\n",
        "y_val = np.array(val_labels)"
      ],
      "execution_count": null,
      "outputs": []
    },
    {
      "cell_type": "code",
      "metadata": {
        "id": "EbwNaR2Ehyqa",
        "colab": {
          "base_uri": "https://localhost:8080/"
        },
        "outputId": "95a245c5-91b7-401b-cd3c-e63f873d5553"
      },
      "source": [
        "model.compile(\n",
        "    loss=\"sparse_categorical_crossentropy\", optimizer=\"rmsprop\", metrics=[\"acc\"]\n",
        ")\n",
        "model.fit(x_train, y_train, batch_size=128, epochs=20, validation_data=(x_val, y_val))"
      ],
      "execution_count": null,
      "outputs": [
        {
          "output_type": "stream",
          "text": [
            "Epoch 1/20\n",
            "125/125 [==============================] - 2s 12ms/step - loss: 2.6749 - acc: 0.1393 - val_loss: 2.0182 - val_acc: 0.3203\n",
            "Epoch 2/20\n",
            "125/125 [==============================] - 1s 10ms/step - loss: 1.9401 - acc: 0.3246 - val_loss: 1.5414 - val_acc: 0.4789\n",
            "Epoch 3/20\n",
            "125/125 [==============================] - 1s 10ms/step - loss: 1.5084 - acc: 0.4777 - val_loss: 1.2886 - val_acc: 0.5536\n",
            "Epoch 4/20\n",
            "125/125 [==============================] - 1s 10ms/step - loss: 1.2640 - acc: 0.5639 - val_loss: 1.1570 - val_acc: 0.5894\n",
            "Epoch 5/20\n",
            "125/125 [==============================] - 1s 10ms/step - loss: 1.0939 - acc: 0.6275 - val_loss: 1.0978 - val_acc: 0.6249\n",
            "Epoch 6/20\n",
            "125/125 [==============================] - 1s 10ms/step - loss: 0.9579 - acc: 0.6697 - val_loss: 1.0374 - val_acc: 0.6502\n",
            "Epoch 7/20\n",
            "125/125 [==============================] - 1s 10ms/step - loss: 0.8440 - acc: 0.7100 - val_loss: 1.0798 - val_acc: 0.6564\n",
            "Epoch 8/20\n",
            "125/125 [==============================] - 1s 10ms/step - loss: 0.7436 - acc: 0.7415 - val_loss: 1.0638 - val_acc: 0.6427\n",
            "Epoch 9/20\n",
            "125/125 [==============================] - 1s 10ms/step - loss: 0.6497 - acc: 0.7738 - val_loss: 1.0451 - val_acc: 0.6787\n",
            "Epoch 10/20\n",
            "125/125 [==============================] - 1s 10ms/step - loss: 0.5666 - acc: 0.8042 - val_loss: 1.2824 - val_acc: 0.6277\n",
            "Epoch 11/20\n",
            "125/125 [==============================] - 1s 10ms/step - loss: 0.4873 - acc: 0.8333 - val_loss: 1.0469 - val_acc: 0.6857\n",
            "Epoch 12/20\n",
            "125/125 [==============================] - 1s 10ms/step - loss: 0.4251 - acc: 0.8537 - val_loss: 1.0469 - val_acc: 0.7027\n",
            "Epoch 13/20\n",
            "125/125 [==============================] - 1s 10ms/step - loss: 0.3804 - acc: 0.8705 - val_loss: 1.3202 - val_acc: 0.6782\n",
            "Epoch 14/20\n",
            "125/125 [==============================] - 1s 10ms/step - loss: 0.3414 - acc: 0.8862 - val_loss: 1.0653 - val_acc: 0.7054\n",
            "Epoch 15/20\n",
            "125/125 [==============================] - 1s 10ms/step - loss: 0.2718 - acc: 0.9088 - val_loss: 1.3424 - val_acc: 0.6857\n",
            "Epoch 16/20\n",
            "125/125 [==============================] - 1s 10ms/step - loss: 0.2623 - acc: 0.9110 - val_loss: 1.5221 - val_acc: 0.6539\n",
            "Epoch 17/20\n",
            "125/125 [==============================] - 1s 10ms/step - loss: 0.2411 - acc: 0.9232 - val_loss: 1.4440 - val_acc: 0.6862\n",
            "Epoch 18/20\n",
            "125/125 [==============================] - 1s 10ms/step - loss: 0.2049 - acc: 0.9310 - val_loss: 1.4720 - val_acc: 0.7004\n",
            "Epoch 19/20\n",
            "125/125 [==============================] - 1s 10ms/step - loss: 0.1935 - acc: 0.9343 - val_loss: 1.4237 - val_acc: 0.6997\n",
            "Epoch 20/20\n",
            "125/125 [==============================] - 1s 10ms/step - loss: 0.1995 - acc: 0.9371 - val_loss: 1.5766 - val_acc: 0.6852\n"
          ],
          "name": "stdout"
        },
        {
          "output_type": "execute_result",
          "data": {
            "text/plain": [
              "<tensorflow.python.keras.callbacks.History at 0x7f87499f3ac8>"
            ]
          },
          "metadata": {
            "tags": []
          },
          "execution_count": 20
        }
      ]
    },
    {
      "cell_type": "code",
      "metadata": {
        "id": "PRzo9f6Phyqb",
        "colab": {
          "base_uri": "https://localhost:8080/",
          "height": 35
        },
        "outputId": "2815ebf5-4110-4b20-fadb-5f1dba71d9ea"
      },
      "source": [
        "string_input = keras.Input(shape=(1,), dtype=\"string\")\n",
        "x = vectorizer(string_input)\n",
        "preds = model(x)\n",
        "end_to_end_model = keras.Model(string_input, preds)\n",
        "\n",
        "probabilities = end_to_end_model.predict(\n",
        "    [[\"this message is about computer graphics and 3D modeling\"]]\n",
        ")\n",
        "\n",
        "class_names[np.argmax(probabilities[0])]"
      ],
      "execution_count": null,
      "outputs": [
        {
          "output_type": "execute_result",
          "data": {
            "application/vnd.google.colaboratory.intrinsic+json": {
              "type": "string"
            },
            "text/plain": [
              "'comp.graphics'"
            ]
          },
          "metadata": {
            "tags": []
          },
          "execution_count": 22
        }
      ]
    }
  ]
}